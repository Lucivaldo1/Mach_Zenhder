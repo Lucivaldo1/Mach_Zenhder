{
 "cells": [
  {
   "cell_type": "code",
   "id": "initial_id",
   "metadata": {
    "collapsed": true,
    "ExecuteTime": {
     "end_time": "2025-02-06T14:54:40.564576Z",
     "start_time": "2025-02-06T14:54:40.548450Z"
    }
   },
   "source": [
    "import sys, os\n",
    "import numpy as np\n",
    "import matplotlib.pyplot as plt\n",
    "import warnings\n",
    "from scipy.constants import c\n",
    "\n",
    "from PIL.GifImagePlugin import getdata"
   ],
   "outputs": [],
   "execution_count": 20
  },
  {
   "metadata": {
    "ExecuteTime": {
     "end_time": "2025-02-06T14:54:40.586156Z",
     "start_time": "2025-02-06T14:54:40.580130Z"
    }
   },
   "cell_type": "code",
   "source": [
    "sys.path.append('C:\\\\Program Files\\\\Lumerical\\\\v221\\\\api\\\\python')\n",
    "sys.path.append('C:\\\\Program Files\\\\Lumerical\\\\v221\\\\api\\\\python\\\\lumapi.py')"
   ],
   "id": "12ce6f2b754e0c17",
   "outputs": [],
   "execution_count": 21
  },
  {
   "metadata": {
    "ExecuteTime": {
     "end_time": "2025-02-06T14:54:40.591329Z",
     "start_time": "2025-02-06T14:54:40.589098Z"
    }
   },
   "cell_type": "code",
   "source": [
    "warnings.filterwarnings(\"ignore\", category=SyntaxWarning)\n",
    "import lumapi"
   ],
   "id": "6536a25161da9fe4",
   "outputs": [],
   "execution_count": 22
  },
  {
   "metadata": {
    "ExecuteTime": {
     "end_time": "2025-02-06T14:54:40.595979Z",
     "start_time": "2025-02-06T14:54:40.593972Z"
    }
   },
   "cell_type": "code",
   "source": [
    "nm = 1e-9\n",
    "um = 1e-6\n"
   ],
   "id": "2aa4680216b3e74e",
   "outputs": [],
   "execution_count": 23
  },
  {
   "metadata": {
    "ExecuteTime": {
     "end_time": "2025-02-06T14:54:42.583799Z",
     "start_time": "2025-02-06T14:54:40.598602Z"
    }
   },
   "cell_type": "code",
   "source": "icApi = lumapi.INTERCONNECT()",
   "id": "f603cfa2ff5d0330",
   "outputs": [],
   "execution_count": 24
  },
  {
   "metadata": {
    "ExecuteTime": {
     "end_time": "2025-02-06T14:54:43.023389Z",
     "start_time": "2025-02-06T14:54:42.737598Z"
    }
   },
   "cell_type": "code",
   "source": [
    "icApi.switchtolayout()\n",
    "icApi.deleteall()"
   ],
   "id": "190a33a9d31f015c",
   "outputs": [],
   "execution_count": 25
  },
  {
   "metadata": {},
   "cell_type": "markdown",
   "source": "Adding devices",
   "id": "9bc3c9fcba393224"
  },
  {
   "metadata": {
    "ExecuteTime": {
     "end_time": "2025-02-06T14:54:43.726691Z",
     "start_time": "2025-02-06T14:54:43.026590Z"
    }
   },
   "cell_type": "code",
   "source": [
    "#ONA\n",
    "icApi.addelement('Optical Network Analyzer')\n",
    "icApi.set('name', 'ona1')\n"
   ],
   "id": "7a77b19521a5bc1f",
   "outputs": [],
   "execution_count": 26
  },
  {
   "metadata": {
    "ExecuteTime": {
     "end_time": "2025-02-06T14:54:46.266007Z",
     "start_time": "2025-02-06T14:54:43.730774Z"
    }
   },
   "cell_type": "code",
   "source": [
    "delta = ((1550e-9)**2)/(4.3455*1e-9)\n",
    "#waveguides\n",
    "#to do: set the wavelengths properly to the waveguides\n",
    "icApi.addelement('Straight Waveguide')\n",
    "icApi.set('name', 'wg1')\n",
    "icApi.set('frequency', (c/(1550*nm)))\n",
    "icApi.set('length', 100*um)\n",
    "icApi.set('effective index 1', 2.355)\n",
    "icApi.set('group index 1', 4.355)\n",
    "\n",
    "\n",
    "icApi.addelement('Straight Waveguide')\n",
    "icApi.set('name', 'wg2')\n",
    "icApi.set('frequency', (c/(1550*nm)))\n",
    "icApi.set('length', (100*um +delta))\n",
    "icApi.set('effective index 1', 2.355)\n",
    "icApi.set('group index 1', 4.355)\n",
    "\n"
   ],
   "id": "a690fa8cfa99b6fe",
   "outputs": [],
   "execution_count": 27
  },
  {
   "metadata": {
    "ExecuteTime": {
     "end_time": "2025-02-06T14:54:46.279818Z",
     "start_time": "2025-02-06T14:54:46.277887Z"
    }
   },
   "cell_type": "code",
   "source": "print(((1550e-9)**2)/(4.3455*1e-9)/um)",
   "id": "1281ae6d9d76bb8c",
   "outputs": [
    {
     "name": "stdout",
     "output_type": "stream",
     "text": [
      "552.8707858704406\n"
     ]
    }
   ],
   "execution_count": 28
  },
  {
   "metadata": {
    "ExecuteTime": {
     "end_time": "2025-02-06T14:54:47.987929Z",
     "start_time": "2025-02-06T14:54:46.291649Z"
    }
   },
   "cell_type": "code",
   "source": [
    "#Y branches\n",
    "icApi.addelement('Waveguide Y Branch')\n",
    "icApi.set('name', 'yb1')\n",
    "'''\n",
    "icApi.addelement('ebeam_y_1550')\n",
    "icApi.set('name', 'yb1')\n",
    "'''\n",
    "icApi.addelement('Waveguide Y Branch')\n",
    "icApi.set('name', 'yb2')\n",
    "icApi.rotateelement('yb2')\n",
    "icApi.rotateelement('yb2')"
   ],
   "id": "aadc3c775380ee27",
   "outputs": [],
   "execution_count": 29
  },
  {
   "metadata": {
    "ExecuteTime": {
     "end_time": "2025-02-06T14:54:48.675829Z",
     "start_time": "2025-02-06T14:54:47.998221Z"
    }
   },
   "cell_type": "code",
   "source": [
    "#positions\n",
    "icApi.setposition('ona1',-20,-200)\n",
    "icApi.setposition('wg1',0,0)\n",
    "icApi.setposition('wg2',0,150)\n",
    "icApi.setposition('yb1',-250,75)\n",
    "icApi.setposition('yb2',250,75)"
   ],
   "id": "8b3e45e19395b871",
   "outputs": [],
   "execution_count": 30
  },
  {
   "metadata": {
    "ExecuteTime": {
     "end_time": "2025-02-06T14:54:49.506300Z",
     "start_time": "2025-02-06T14:54:48.687420Z"
    }
   },
   "cell_type": "code",
   "source": [
    "#conections\n",
    "icApi.connect('ona1','output', 'yb1', 'port 1')\n",
    "\n",
    "icApi.connect('yb1', 'port 2', 'wg1', 'port 1')\n",
    "icApi.connect('yb1', 'port 3', 'wg2', 'port 1')\n",
    "'''\n",
    "icApi.connect('ona1','output', 'yb1', 'opt_a1')\n",
    "\n",
    "icApi.connect('yb1', 'opt_b1', 'wg1', 'port 1')\n",
    "icApi.connect('yb1', 'opt_b2', 'wg2', 'port 1')\n",
    "'''\n",
    "icApi.connect('wg1', 'port 2', 'yb2', 'port 3')\n",
    "icApi.connect('wg2', 'port 2', 'yb2', 'port 2')\n",
    "\n",
    "icApi.connect('yb2', 'port 1', 'ona1', 'input 1')\n"
   ],
   "id": "a0b3474abb7aabac",
   "outputs": [
    {
     "data": {
      "text/plain": [
       "1.0"
      ]
     },
     "execution_count": 31,
     "metadata": {},
     "output_type": "execute_result"
    }
   ],
   "execution_count": 31
  },
  {
   "metadata": {
    "ExecuteTime": {
     "end_time": "2025-02-06T14:54:50.417084Z",
     "start_time": "2025-02-06T14:54:49.573490Z"
    }
   },
   "cell_type": "code",
   "source": [
    "icApi.switchtolayout()\n",
    "icApi.select('ona1')\n",
    "icApi.set('number of points', 1000)\n",
    "icApi.set('input parameter', 2)\n",
    "icApi.set('start frequency', (c/(1500*nm)))\n",
    "icApi.set('stop frequency', (c/(1600*nm)))"
   ],
   "id": "e1007e05fad6ace1",
   "outputs": [],
   "execution_count": 32
  },
  {
   "metadata": {
    "ExecuteTime": {
     "end_time": "2025-02-06T14:54:51.505849Z",
     "start_time": "2025-02-06T14:54:50.426239Z"
    }
   },
   "cell_type": "code",
   "source": "icApi.run()",
   "id": "9d85bc1907a933e0",
   "outputs": [],
   "execution_count": 33
  },
  {
   "metadata": {},
   "cell_type": "markdown",
   "source": "",
   "id": "a105d422e0de5c1b"
  },
  {
   "metadata": {
    "ExecuteTime": {
     "end_time": "2025-02-06T14:55:21.058434Z",
     "start_time": "2025-02-06T14:55:20.881608Z"
    }
   },
   "cell_type": "code",
   "source": [
    "data = icApi.getresult('ona1', 'input 1/mode 1/gain')\n",
    "#print(data)\n",
    "#print((data['wavelength']))\n",
    "\n",
    "plt.plot(data['wavelength']/nm, data['TE gain (dB)'])\n",
    "#plt.plot(data['wavelength']/nm, data['mode 1 gain (dB)']) #for S parameters devices\n",
    "plt.vlines(1550,ymin=-60,ymax=0, color='r')\n",
    "plt.hlines(-23,xmin=1549.5,xmax=1550.5, color='r')\n",
    "plt.hlines(-38,xmin=1545,xmax=1555, color='b')\n",
    "plt.hlines(-30,xmin=1540,xmax=1560, color='g')\n",
    "plt.xlim(1545, 1555)\n",
    "#plt.xlim(1540, 1560)"
   ],
   "id": "6340289a971042b3",
   "outputs": [
    {
     "data": {
      "text/plain": [
       "(1545.0, 1555.0)"
      ]
     },
     "execution_count": 39,
     "metadata": {},
     "output_type": "execute_result"
    },
    {
     "data": {
      "text/plain": [
       "<Figure size 640x480 with 1 Axes>"
      ],
      "image/png": "[encoded data removed]"
     },
     "metadata": {},
     "output_type": "display_data"
    }
   ],
   "execution_count": 39
  },
  {
   "metadata": {
    "ExecuteTime": {
     "end_time": "2025-02-06T14:54:51.727957Z",
     "start_time": "2025-02-06T14:54:51.719402Z"
    }
   },
   "cell_type": "code",
   "source": "#icApi.close()",
   "id": "528e6439b394d40a",
   "outputs": [],
   "execution_count": 35
  }
 ],
 "metadata": {
  "kernelspec": {
   "display_name": "Python 3",
   "language": "python",
   "name": "python3"
  },
  "language_info": {
   "codemirror_mode": {
    "name": "ipython",
    "version": 2
   },
   "file_extension": ".py",
   "mimetype": "text/x-python",
   "name": "python",
   "nbconvert_exporter": "python",
   "pygments_lexer": "ipython2",
   "version": "2.7.6"
  }
 },
 "nbformat": 4,
 "nbformat_minor": 5
}
